{
 "cells": [
  {
   "cell_type": "code",
   "execution_count": 2,
   "metadata": {},
   "outputs": [
    {
     "name": "stdout",
     "output_type": "stream",
     "text": [
      "NIST Special Publication 800-52 Revision 2\n",
      "\n",
      "Guidelines for the Selection, Configuration, and Use of Transport Layer Security (TLS) Implementations\n",
      "\n",
      "Kerry A. McKay David A. Cooper\n",
      "\n",
      "This publication is available free of charge from: https://doi.org/10.6028/NIST.SP.800-52r2\n",
      "\n",
      "C O M P U T E R S E C U R I T Y\n",
      "\n",
      "NIST Special Publication 800-52 Revision 2\n",
      "\n",
      "Guidelines for the Selection, Configuration, and Use of Transport Layer Security (TLS) Implementations\n",
      "\n",
      "Kerry A. McKay David A. Cooper Computer Security Division Information Technology Laboratory\n",
      "\n",
      "This publication is available free of charge from: https://doi.org/10.6028/NIST.SP.800-52r2\n",
      "\n",
      "August 2019\n"
     ]
    }
   ],
   "source": [
    "import os\n",
    "from unstructured.partition.pdf import partition_pdf\n",
    "\n",
    "EXAMPLE_DOCS_DIRECTORY = \"data\"\n",
    "\n",
    "layoutpaper = \"layout-parser-paper-fast.pdf\"\n",
    "nistdoc = \"NIST.SP.800-52r2.pdf\"\n",
    "\n",
    "filename = os.path.join(EXAMPLE_DOCS_DIRECTORY, nistdoc)\n",
    "\n",
    "with open(filename, \"rb\") as f:\n",
    "    elements = partition_pdf(\n",
    "        file=f, \n",
    "        include_page_breaks=False,\n",
    "        url=None,\n",
    "        strategy=\"fast\"\n",
    "    )\n",
    "    print(\"\\n\\n\".join([str(el) for el in elements[:10]]))"
   ]
  },
  {
   "cell_type": "code",
   "execution_count": 4,
   "metadata": {},
   "outputs": [
    {
     "data": {
      "text/plain": [
       "\"Philadelphia Eagles' victory\""
      ]
     },
     "execution_count": 4,
     "metadata": {},
     "output_type": "execute_result"
    }
   ],
   "source": [
    "from unstructured.cleaners.core import replace_unicode_quotes\n",
    "\n",
    "replace_unicode_quotes(\"Philadelphia Eaglesâ\\x80\\x99 victory\")"
   ]
  },
  {
   "cell_type": "code",
   "execution_count": 5,
   "metadata": {},
   "outputs": [
    {
     "name": "stdout",
     "output_type": "stream",
     "text": [
      "Philadelphia Eagles' victory\n"
     ]
    }
   ],
   "source": [
    "from unstructured.documents.elements import Text\n",
    "\n",
    "element = Text(\"Philadelphia Eaglesâ\\x80\\x99 victory\")\n",
    "element.apply(replace_unicode_quotes)\n",
    "print(element)"
   ]
  },
  {
   "cell_type": "code",
   "execution_count": 7,
   "metadata": {},
   "outputs": [
    {
     "name": "stdout",
     "output_type": "stream",
     "text": [
      " Geolocated combat footage has confirmed Russian gains in the Dvorichne area northwest of Svatove.\n"
     ]
    }
   ],
   "source": [
    "import re\n",
    "\n",
    "remove_citations = lambda text: re.sub(\"\\[\\d{1,3}\\]\", \"\", text)\n",
    "\n",
    "element = Text(\"[1] Geolocated combat footage has confirmed Russian gains in the Dvorichne area northwest of Svatove.\")\n",
    "element.apply(remove_citations)\n",
    "print(element)"
   ]
  },
  {
   "cell_type": "code",
   "execution_count": 8,
   "metadata": {},
   "outputs": [
    {
     "name": "stdout",
     "output_type": "stream",
     "text": [
      "The big brown fox was walking down the lane.\n",
      "\n",
      "At the end of the lane, the fox met a bear.\n"
     ]
    }
   ],
   "source": [
    "from unstructured.cleaners.core import group_broken_paragraphs\n",
    "\n",
    "text = \"\"\"The big brown fox\n",
    "was walking down the lane.\n",
    "\n",
    "At the end of the lane, the\n",
    "fox met a bear.\"\"\"\n",
    "\n",
    "print(group_broken_paragraphs(text))"
   ]
  },
  {
   "cell_type": "code",
   "execution_count": 9,
   "metadata": {},
   "outputs": [
    {
     "name": "stdout",
     "output_type": "stream",
     "text": [
      "The big brown fox was walking down the lane.\n",
      "\n",
      "At the end of the lane, the fox met a bear.\n"
     ]
    }
   ],
   "source": [
    "import re\n",
    "from unstructured.cleaners.core import group_broken_paragraphs\n",
    "\n",
    "para_split_re = re.compile(r\"(\\s*\\n\\s*){3}\")\n",
    "\n",
    "text = \"\"\"The big brown fox\n",
    "\n",
    "was walking down the lane.\n",
    "\n",
    "\n",
    "At the end of the lane, the\n",
    "\n",
    "fox met a bear.\"\"\"\n",
    "\n",
    "print(group_broken_paragraphs(text, paragraph_split=para_split_re))"
   ]
  },
  {
   "cell_type": "code",
   "execution_count": 1,
   "metadata": {},
   "outputs": [],
   "source": [
    "from unstructured.staging.base import convert_to_dict\n",
    "import os\n",
    "from unstructured.partition.pdf import partition_pdf\n",
    "import json\n",
    "\n",
    "EXAMPLE_DOCS_DIRECTORY = \"data\"\n",
    "\n",
    "layoutpaper = \"layout-parser-paper-fast.pdf\"\n",
    "nistdoc = \"NIST.SP.800-52r2.pdf\"\n",
    "\n",
    "filename = os.path.join(EXAMPLE_DOCS_DIRECTORY, nistdoc)\n",
    "\n",
    "with open(filename, \"rb\") as f:\n",
    "    elements = partition_pdf(\n",
    "        file=f, \n",
    "        include_page_breaks=False,\n",
    "        url=None,\n",
    "        strategy=\"hi_res\"\n",
    "    )"
   ]
  },
  {
   "cell_type": "code",
   "execution_count": 2,
   "metadata": {},
   "outputs": [
    {
     "name": "stdout",
     "output_type": "stream",
     "text": [
      "NIST Special Publication 800-52 Revision 2\n",
      "\n",
      "Guidelines for the Selection, Configuration, and Use of Transport Layer Security (TLS) Implementations\n",
      "\n",
      "Kerry A. McKay David A. Cooper\n",
      "\n",
      "This publication is available free of charge from: https://doi.org/10.6028/NIST.SP.800-52r2\n",
      "\n",
      "C O M P U T E R S E C U R I T Y\n",
      "\n",
      "NUST National Institute of Standards and Technology U.S. Department of Commerce\n",
      "\n",
      "NIST Special Publication 800-52 Revision 2\n",
      "\n",
      "Guidelines for the Selection, Configuration, and Use of Transport Layer Security (TLS) Implementations\n",
      "\n",
      "Kerry A. McKay David A. Cooper Computer Security Division Information Technology Laboratory\n",
      "\n",
      "This publication is available free of charge from: https://doi.org/10.6028/NIST.SP.800-52r2\n"
     ]
    }
   ],
   "source": [
    "print(\"\\n\\n\".join([str(el) for el in elements[:10]]))"
   ]
  },
  {
   "cell_type": "code",
   "execution_count": 3,
   "metadata": {},
   "outputs": [
    {
     "name": "stdout",
     "output_type": "stream",
     "text": [
      "[5\n",
      "\n",
      "\n",
      "--------------------------------------------------------------------------------\n",
      "8] Rescorla E, Oku K, Sullivan N, Wood C (2019) Encrypted Server Name Indication for TLS 1.3. (Internet Engineering Task Force (IETF) Transport Layer Security Working Group), Internet-Draft draft-ietf-tls-esni-04. https://datatracker.ietf.org/doc/draft-ietf-tls- esni/\n",
      "\n",
      "[59] Rescorla E, Ray M, Dispensa S, Oskov N (2010) Transport Layer Security (TLS) Renegotiation Indication Extension. (Internet Engineering Task Force (IETF)), IETF Request for Comments (RFC) 5746. https://doi.org/10.17487/RFC5746\n",
      "\n",
      "\n",
      "--------------------------------------------------------------------------------\n",
      "These guidelines do not\n",
      "\n",
      "\n",
      "--------------------------------------------------------------------------------\n",
      " give specific recommendations on steps that can be taken to make this determination. There are tools available (such as the Data Analytics Program [69]) that can provide information to system administrators that can be used to assess the impact of supporting or not supporting TLS versions prior to TLS 1.2. For example, DAP data on visitor OS and browser versions can help administrators determine what percentage of visitors to agency websites cannot negotiate recommended TLS versions by default.\n",
      "\n",
      "\n",
      "--------------------------------------------------------------------------------\n",
      "The system administrator must consider the benefits and risks of using TLS 1.0 or 1.1, in the context of applications supported by the server, and decide whether the benefits of using TLS 1.0 or 1.1 outweigh the risks. This decision should be driven by the service(s) running on the server and the versions supported by clients accessing the server. Services that do not access high-value information (such as personally identifiable information or financ\n",
      "\n",
      "\n",
      "--------------------------------------------------------------------------------\n",
      "ial data) may benefit from using TLS 1.0 by increasing accessibility with little increased risk. On the other hand, services that do access high-value data may increase the likelihood of a breach for relatively little gain in terms of accessibility. The decision to support TLS 1.0 or 1.1 must be technically assessed on a case-by-case basis. This is to ensure that supporting older TLS versions is absolutely necessary and that associated risks and business implications are understood and accepted.\n",
      "\n",
      "\n",
      "--------------------------------------------------------------------------------\n",
      "The Identity, Credential, and Access Management (ICAM) Subcommittee of the Federal CIO Council’s\n",
      "\n",
      "\n",
      "--------------------------------------------------------------------------------\n",
      " Information Security and Identity Management Committee is developing a new public trust root and issuing CA infrastructure to issue TLS server certificates for federal web services on the public Internet. The intent is for this new root to be included in all of the commonly used trust stores so that federal agencies can obtain their TLS server certificates from this PKI rather than from commercial CAs. The certificate policy for this PKI is being developed at https://devicepki.idmanagement.gov.\n",
      "\n",
      "\n",
      "--------------------------------------------------------------------------------\n",
      "TLS_PSK_WITH_AES_128_CCM (0xC0, 0xA4) •\n",
      "\n",
      "\n",
      "--------------------------------------------------------------------------------\n",
      " TLS_PSK_WITH_AES_256_CCM (0xC0, 0xA5) • TLS_PSK_WITH_AES_128_CCM_8 (0xC0, 0xA8) • TLS_PSK_WITH_AES_256_CCM_8 (0xC0, 0xA9) • TLS_PSK_WITH_AES_128_CBC_SHA256 (0x00, 0xAE) • TLS_PSK_WITH_AES_256_CBC_SHA384 (0x00, 0xAF) • TLS_ECDHE_PSK_WITH_AES_128_CBC_SHA (0xC0, 0x35) • TLS_ECDHE_PSK_WITH_AES_256_CBC_SHA (0xC0, 0x36) • TLS_DHE_PSK_WITH_AES_128_CBC_SHA (0x00, 0x90) • TLS_DHE_PSK_WITH_AES_256_CBC_SHA (0x00, 0x91) • TLS_PSK_WITH_AES_128_CBC_SHA (0x00, 0x8C) • TLS_PSK_WITH_AES_256_CBC_SHA (0x00, 0x8D)\n",
      "\n",
      "\n",
      "--------------------------------------------------------------------------------\n",
      "TLS_DHE_PSK_WITH_AES_128_GCM_SHA256 (0x00, 0xAA) • TLS_DHE_PSK_WITH_AES_256_GCM_S\n",
      "\n",
      "\n",
      "--------------------------------------------------------------------------------\n",
      "HA384 (0x00, 0xAB) • TLS_ECDHE_PSK_WITH_AES_128_CBC_SHA256 (0xC0, 0x37) • TLS_ECDHE_PSK_WITH_AES_256_CBC_SHA384 (0xC0, 0x38) • TLS_DHE_PSK_WITH_AES_128_CCM (0xC0, 0xA6) • TLS_DHE_PSK_WITH_AES_256_CCM (0xC0, 0xA7) • TLS_PSK_DHE_WITH_AES_128_CCM_8 (0xC0, 0xAA) • TLS_PSK_DHE_WITH_AES_256_CCM_8 (0xC0, 0xAB) • TLS_DHE_PSK_WITH_AES_128_CBC_SHA256 (0x00, 0xB2) • TLS_DHE_PSK_WITH_AES_256_CBC_SHA384 (0x00, 0xB3) • TLS_PSK_WITH_AES_128_GCM_SHA256 (0x00, 0xA8) • TLS_PSK_WITH_AES_256_GCM_SHA384 (0x00, 0xA9)\n",
      "\n",
      "\n",
      "--------------------------------------------------------------------------------\n",
      "Recommended pre-shared key (PSK) cipher suites for TLS 1.2 are listed below. Cipher suites for TLS 1.3 (see Section 3.3.1.2) can all be used with pre-shared keys. Pre-shared keys shall be distributed i\n",
      "\n",
      "\n",
      "--------------------------------------------------------------------------------\n",
      "n a secure manner, such as a secure manual distribution or using a key-establishment certificate. These cipher suites employ a pre-shared key for entity authentication (for both the server and the client) and may also use ephemeral Diffie-Hellman (DHE) or ephemeral Elliptic Curve Diffie-Hellman (ECDHE) algorithms for key establishment. For example, when DHE is used, the result of the Diffie-Hellman computation is combined with the pre-shared key and other input to determine the premaster secret.\n",
      "\n",
      "\n",
      "--------------------------------------------------------------------------------\n",
      "Pre-shared keys (PSK) are symmetric keys that are already in place prior to the initiation of a TLS session (e.g., as the result of a manual distribution). The use of PSKs in TLS versions prior to TLS 1.3 is described in RFC 4279 [30], RFC 5487 [3], and RFC 5489 [4]. Pre-shared keys are used \n",
      "\n",
      "\n",
      "--------------------------------------------------------------------------------\n",
      "for session resumption in TLS 1.3. In general, pre-shared keys should not be used in TLS versions prior to TLS 1.3 or for initial session establishment in TLS 1.3. However, the use of pre-shared keys may be appropriate for some closed environments that have adequate key management support. For example, they might be appropriate for constrained environments with limited processing, memory, or power. If PSKs are appropriate and supported, then the following additional guidelines shall be followed.\n",
      "\n",
      "\n",
      "--------------------------------------------------------------------------------\n",
      "TLS\n",
      "\n",
      "\n",
      "--------------------------------------------------------------------------------\n",
      " cipher suite names consist of a set of mnemonics separated by underscores (i.e., “_”). The naming convention in TLS 1.3 differs from the convention shared in TLS 1.0, 1.1, and 1.2. Section B.1 provides guidance for interpreting the names of cipher suites that are recommended in these guidelines for TLS versions 1.0, 1.1, and 1.2. Section B.2 provides guidance for interpreting the names of cipher suites for TLS 1.3. In all TLS cipher suites, the first mnemonic is the protocol name (i.e., “TLS”).\n",
      "\n",
      "\n",
      "--------------------------------------------------------------------------------\n",
      "Ephemeral El\n",
      "\n",
      "\n",
      "--------------------------------------------------------------------------------\n",
      "liptic Curve Diffie-Hellman ECDHE\n",
      "\n",
      "Elliptic Curve Digital Signature Algorithm ECDSA\n",
      "\n",
      "Federal Information Processing Standard FIPS\n",
      "\n",
      "Galois Counter Mode GCM\n",
      "\n",
      "HMAC-based Extract-and-Expand Key Derivation Function HKDF\n",
      "\n",
      "Keyed-hash Message Authentication Code HMAC\n",
      "\n",
      "Internet Engineering Task Force IETF\n",
      "\n",
      "Key Derivation Function KDF\n",
      "\n",
      "Message Authentication Code MAC\n",
      "\n",
      "Online Certificate Status Protocol OCSP\n",
      "\n",
      "Object Identifier OID\n",
      "\n",
      "Personal Identity Verification\n",
      "\n",
      "PIV\n",
      "\n",
      "Public-Key Cryptography Standards PKCS\n",
      "\n",
      "\n",
      "--------------------------------------------------------------------------------\n",
      "IETF mnemonic f\n",
      "\n",
      "\n",
      "--------------------------------------------------------------------------------\n",
      "or Triple Data Encryption Algorithm 3DES\n",
      "\n",
      "Authenticated Encryption with Associated Data AEAD\n",
      "\n",
      "Advanced Encryption Standard AES\n",
      "\n",
      "Certification Authority CA\n",
      "\n",
      "Cipher Block Chaining CBC\n",
      "\n",
      "Counter with CBC-MAC CCM\n",
      "\n",
      "Certificate Revocation List CRL\n",
      "\n",
      "Data Encryption Standard\n",
      "\n",
      "DES DH\n",
      "\n",
      "Diffie-Hellman key exchange\n",
      "\n",
      "Ephemeral Diffie-Hellman key exchange DHE\n",
      "\n",
      "Domain Name System DNS\n",
      "\n",
      "DNS Security Extensions DNSSEC\n",
      "\n",
      "Digital Signature Algorithm DSA\n",
      "\n",
      "Digital Signature Standard (implies DSA) DSS\n",
      "\n",
      "Elliptic Curve EC\n",
      "\n",
      "\n",
      "--------------------------------------------------------------------------------\n",
      "For these\n",
      "\n",
      "\n",
      "--------------------------------------------------------------------------------\n",
      " reasons, the use of TLS does not obviate the need for the client to use appropriate security measures, as described in applicable Federal Information Processing Standards and NIST Special Publications, to protect computer systems and applications. Users shall operate client systems in accordance with agency and administrator instructions.\n",
      "\n",
      "44\n",
      "\n",
      "NIST SP 800-52 REV. 2\n",
      "\n",
      "GUIDELINES FOR TLS IMPLEMENTATIONS\n",
      "\n",
      "Appendix A—Acronyms\n",
      "\n",
      "Selected acronyms and abbreviations used in this paper are defined below.\n",
      "\n",
      "\n",
      "--------------------------------------------------------------------------------\n",
      "RFC 7918 [39] describes a technique called False Start that \n",
      "\n",
      "\n",
      "--------------------------------------------------------------------------------\n",
      "allows a TLS 1.2 client to send early data. While this concept is similar to the 0-RTT data of TLS 1.3, there are differences that affect security. For example, an attacker may perform downgrade attacks, both of protocol versions and cipher suites, and obtain client data before the handshake is determined to be invalid. While RFC 7918 provides recommendations for improving security, it is safest to disable False Start unless there is a real need for it. TLS 1.2 clients shall not use False Start.\n",
      "\n",
      "\n",
      "--------------------------------------------------------------------------------\n",
      "When the TLS client is a browser, the browser interface can be used to determine if a TLS session is in effect. The indication that a TLS session is in effect va\n",
      "\n",
      "\n",
      "--------------------------------------------------------------------------------\n",
      "ries by browser. Examples of indicators include a padlock in the URL bar, the word “secure” preceding the URL, or a different color for the URL bar. Some clients, such as browsers, may allow further investigation of the server certificate and negotiated session parameters by clicking on the lock (or other indicator). Users should examine the interface for the presence of the indicator to ensure that the TLS session is in force and should also visually examine website URLs to ensure that the user\n",
      "\n",
      "\n",
      "--------------------------------------------------------------------------------\n"
     ]
    }
   ],
   "source": [
    "\n",
    "from unstructured.chunking.title import chunk_by_title\n",
    "\n",
    "chunks = chunk_by_title(elements, multipage_sections=True)\n",
    "\n",
    "for chunk in chunks:\n",
    "    print(chunk)\n",
    "    print(\"\\n\\n\" + \"-\"*80)\n",
    "    if input() == \"exit\":\n",
    "        break"
   ]
  }
 ],
 "metadata": {
  "kernelspec": {
   "display_name": "env",
   "language": "python",
   "name": "python3"
  },
  "language_info": {
   "codemirror_mode": {
    "name": "ipython",
    "version": 3
   },
   "file_extension": ".py",
   "mimetype": "text/x-python",
   "name": "python",
   "nbconvert_exporter": "python",
   "pygments_lexer": "ipython3",
   "version": "3.9.12"
  }
 },
 "nbformat": 4,
 "nbformat_minor": 2
}
